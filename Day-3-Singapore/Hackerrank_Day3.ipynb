{
 "cells": [
  {
   "cell_type": "markdown",
   "metadata": {},
   "source": [
    "Problem#1\n",
    "\n",
    "Link- https://www.hackerrank.com/challenges/python-loops/problem?isFullScreen=true\n"
   ]
  },
  {
   "cell_type": "code",
   "execution_count": 1,
   "metadata": {},
   "outputs": [
    {
     "name": "stdout",
     "output_type": "stream",
     "text": [
      "0\n",
      "1\n",
      "4\n",
      "9\n",
      "16\n",
      "25\n",
      "36\n",
      "49\n",
      "64\n",
      "81\n"
     ]
    }
   ],
   "source": [
    "if __name__ == '__main__':\n",
    "    n = int(input()) # n=10\n",
    "    a = []\n",
    "    for i in range(n):\n",
    "        a.append(i)\n",
    "    for j in a:\n",
    "        print(j*j)"
   ]
  },
  {
   "cell_type": "markdown",
   "metadata": {},
   "source": [
    "Problem#2\n",
    "\n",
    "Link - https://www.hackerrank.com/challenges/py-if-else/problem?isFullScreen=true"
   ]
  },
  {
   "cell_type": "code",
   "execution_count": 2,
   "metadata": {},
   "outputs": [
    {
     "name": "stdout",
     "output_type": "stream",
     "text": [
      "Weird\n"
     ]
    }
   ],
   "source": [
    "if __name__ == '__main__':\n",
    "    n = int(input(\"Enter the value of n:\").strip()) #n=20. \n",
    "    if (n%2!=0):\n",
    "        print(\"Weird\")\n",
    "    elif (n%2==0):\n",
    "        if(2<=n<=5):\n",
    "            print(\"Not Weird\")\n",
    "        elif(6<=n<=20):\n",
    "            print(\"Weird\")\n",
    "        elif(n>20):\n",
    "            print(\"Not Weird\")"
   ]
  },
  {
   "cell_type": "code",
   "execution_count": null,
   "metadata": {},
   "outputs": [],
   "source": []
  }
 ],
 "metadata": {
  "kernelspec": {
   "display_name": "Python 3.9.12 ('base')",
   "language": "python",
   "name": "python3"
  },
  "language_info": {
   "codemirror_mode": {
    "name": "ipython",
    "version": 3
   },
   "file_extension": ".py",
   "mimetype": "text/x-python",
   "name": "python",
   "nbconvert_exporter": "python",
   "pygments_lexer": "ipython3",
   "version": "3.9.12"
  },
  "orig_nbformat": 4,
  "vscode": {
   "interpreter": {
    "hash": "a147b1cc5af69f13a6ec55e0141c8d455d81ee17d5b31e9590c8e25b5a59e82c"
   }
  }
 },
 "nbformat": 4,
 "nbformat_minor": 2
}
